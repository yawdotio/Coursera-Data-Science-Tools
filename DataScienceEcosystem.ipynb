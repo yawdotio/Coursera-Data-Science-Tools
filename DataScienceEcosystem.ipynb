{
 "cells": [
  {
   "cell_type": "markdown",
   "id": "f46375ca-c8e0-4130-9ec8-8e36895ef3c9",
   "metadata": {},
   "source": [
    "# Data Science Tools And Ecosystem"
   ]
  },
  {
   "cell_type": "markdown",
   "id": "1cdf8900-e468-47a6-970c-92f1b467e7b3",
   "metadata": {},
   "source": [
    "## In this notebook, Data Science Tools and Ecosystem are summarized."
   ]
  },
  {
   "cell_type": "markdown",
   "id": "9b4ae7ca-82b5-465b-8a8e-7bbafd3c3c9d",
   "metadata": {},
   "source": [
    "**Objectives:**\n",
    "\n",
    "- List popular Data Science languages\n",
    "- List commonly used libraries\n",
    "- List some Data Science Tools\n",
    "- Evaluate some arithmetic operations in Python "
   ]
  },
  {
   "cell_type": "markdown",
   "id": "f2566e55-0bff-45c5-92f4-c4b912a37b8d",
   "metadata": {},
   "source": [
    "### Some of the popular languages that Data Scientists use are:\n",
    "\n",
    "1. Python\n",
    "2. R\n",
    "3. Julia\n",
    "4. C++\n",
    "5. Java"
   ]
  },
  {
   "cell_type": "markdown",
   "id": "c28cddf1-10f6-4653-b7b1-951c0d8651c3",
   "metadata": {},
   "source": [
    "### Some commonly used libraries used by Data Scientists include:\n",
    "\n",
    "1. Pandas\n",
    "2. Numpy\n",
    "3. Plotly\n",
    "4. Seaborn\n",
    "5. Tensorflow"
   ]
  },
  {
   "cell_type": "markdown",
   "id": "4ad7e677-7051-4dae-bb0b-09f16c17267f",
   "metadata": {},
   "source": [
    "|Data Science Tools|\n",
    "|------------------|\n",
    "|Jupyter|\n",
    "|Anaconda|\n",
    "|Hadoop|\n",
    "|Apache Spark|\n",
    "|GitHub|\n"
   ]
  },
  {
   "cell_type": "markdown",
   "id": "a0397709-4098-48de-b788-b7b5776bd11a",
   "metadata": {},
   "source": [
    "### Below are a few examples of evaluating arithmetic expressions in Python "
   ]
  },
  {
   "cell_type": "code",
   "execution_count": 7,
   "id": "aaa71011-cb5f-4315-9cfd-c9b8742eecea",
   "metadata": {},
   "outputs": [
    {
     "data": {
      "text/plain": [
       "17"
      ]
     },
     "execution_count": 7,
     "metadata": {},
     "output_type": "execute_result"
    }
   ],
   "source": [
    "# This is a simple arithmetic expression to multiply then add numbers\n",
    "\n",
    "(3*4)+5"
   ]
  },
  {
   "cell_type": "code",
   "execution_count": 5,
   "id": "02870728-7c08-444f-9284-5014e5cdeda4",
   "metadata": {},
   "outputs": [
    {
     "data": {
      "text/plain": [
       "3.3333333333333335"
      ]
     },
     "execution_count": 5,
     "metadata": {},
     "output_type": "execute_result"
    }
   ],
   "source": [
    "# This will convert 200 minutes to hours by dividing by 60\n",
    "\n",
    "200/60"
   ]
  },
  {
   "cell_type": "markdown",
   "id": "3b7c3773-98bd-4c51-b190-22469b4d1dc1",
   "metadata": {},
   "source": [
    "## Author \n",
    "\n",
    "Yaw Adu Bempong"
   ]
  },
  {
   "cell_type": "code",
   "execution_count": null,
   "id": "965aa607-80e9-4344-b5e9-00f07fddd05f",
   "metadata": {},
   "outputs": [],
   "source": []
  }
 ],
 "metadata": {
  "kernelspec": {
   "display_name": "Python 3 (ipykernel)",
   "language": "python",
   "name": "python3"
  },
  "language_info": {
   "codemirror_mode": {
    "name": "ipython",
    "version": 3
   },
   "file_extension": ".py",
   "mimetype": "text/x-python",
   "name": "python",
   "nbconvert_exporter": "python",
   "pygments_lexer": "ipython3",
   "version": "3.12.8"
  }
 },
 "nbformat": 4,
 "nbformat_minor": 5
}
